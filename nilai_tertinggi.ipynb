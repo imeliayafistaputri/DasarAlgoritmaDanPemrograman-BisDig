{
  "nbformat": 4,
  "nbformat_minor": 0,
  "metadata": {
    "colab": {
      "provenance": [],
      "authorship_tag": "ABX9TyMmOkmfJrQDayAhY2rRf9Rj",
      "include_colab_link": true
    },
    "kernelspec": {
      "name": "python3",
      "display_name": "Python 3"
    },
    "language_info": {
      "name": "python"
    }
  },
  "cells": [
    {
      "cell_type": "markdown",
      "metadata": {
        "id": "view-in-github",
        "colab_type": "text"
      },
      "source": [
        "<a href=\"https://colab.research.google.com/github/imeliayafistaputri/DasarAlgoritmaDanPemrograman-BisDig/blob/main/nilai_tertinggi.ipynb\" target=\"_parent\"><img src=\"https://colab.research.google.com/assets/colab-badge.svg\" alt=\"Open In Colab\"/></a>"
      ]
    },
    {
      "cell_type": "code",
      "execution_count": 1,
      "metadata": {
        "colab": {
          "base_uri": "https://localhost:8080/"
        },
        "id": "qZZVX_t8_ES0",
        "outputId": "0e893ab9-08ce-4423-d07d-f8f26dd8e1e7"
      },
      "outputs": [
        {
          "output_type": "stream",
          "name": "stdout",
          "text": [
            "Masukkan nilai siswa ke-1: 85\n",
            "Masukkan nilai siswa ke-2: 80\n",
            "Masukkan nilai siswa ke-3: 95\n",
            "Masukkan nilai siswa ke-4: 70\n",
            "Masukkan nilai siswa ke-5: 90\n",
            "\n",
            "Nilai tertinggi adalah 95 diperoleh oleh siswa ke-3.\n"
          ]
        }
      ],
      "source": [
        "# Inisialisasi list untuk menyimpan nilai\n",
        "nilai_siswa = []\n",
        "\n",
        "# Input nilai 5 siswa menggunakan perulangan\n",
        "for i in range(5):\n",
        "    nilai = int(input(f\"Masukkan nilai siswa ke-{i+1}: \"))\n",
        "    nilai_siswa.append(nilai)\n",
        "\n",
        "# Cari nilai tertinggi dan indeksnya\n",
        "nilai_tertinggi = max(nilai_siswa)\n",
        "indeks_siswa = nilai_siswa.index(nilai_tertinggi) + 1  # +1 karena indeks dimulai dari 0\n",
        "\n",
        "# Tampilkan hasil\n",
        "print(f\"\\nNilai tertinggi adalah {nilai_tertinggi} diperoleh oleh siswa ke-{indeks_siswa}.\")"
      ]
    }
  ]
}