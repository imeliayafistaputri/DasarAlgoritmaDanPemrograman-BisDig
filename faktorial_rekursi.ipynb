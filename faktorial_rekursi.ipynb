{
  "nbformat": 4,
  "nbformat_minor": 0,
  "metadata": {
    "colab": {
      "provenance": [],
      "authorship_tag": "ABX9TyP/xh8VbB9SFZXlhpjMTBA4",
      "include_colab_link": true
    },
    "kernelspec": {
      "name": "python3",
      "display_name": "Python 3"
    },
    "language_info": {
      "name": "python"
    }
  },
  "cells": [
    {
      "cell_type": "markdown",
      "metadata": {
        "id": "view-in-github",
        "colab_type": "text"
      },
      "source": [
        "<a href=\"https://colab.research.google.com/github/imeliayafistaputri/DasarAlgoritmaDanPemrograman-BisDig/blob/main/faktorial_rekursi.ipynb\" target=\"_parent\"><img src=\"https://colab.research.google.com/assets/colab-badge.svg\" alt=\"Open In Colab\"/></a>"
      ]
    },
    {
      "cell_type": "code",
      "execution_count": 2,
      "metadata": {
        "colab": {
          "base_uri": "https://localhost:8080/"
        },
        "id": "pwIbA2yg9r-4",
        "outputId": "38db376a-4919-4234-ebd9-09bf29231bc4"
      },
      "outputs": [
        {
          "output_type": "stream",
          "name": "stdout",
          "text": [
            "Masukkan sebuah bilangan bulat non-negatif: 5\n",
            "Faktorial dari 5 adalah 120\n"
          ]
        }
      ],
      "source": [
        "def faktorial(n):\n",
        "    if n == 0 or n == 1:\n",
        "        return 1\n",
        "    else:\n",
        "        return n * faktorial(n - 1)\n",
        "\n",
        "# Input dari pengguna\n",
        "angka = int(input(\"Masukkan sebuah bilangan bulat non-negatif: \"))\n",
        "\n",
        "# Memastikan input valid\n",
        "if angka < 0:\n",
        "    print(\"Faktorial tidak terdefinisi untuk bilangan negatif.\")\n",
        "else:\n",
        "    print(f\"Faktorial dari {angka} adalah {faktorial(angka)}\")"
      ]
    }
  ]
}