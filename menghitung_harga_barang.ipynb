{
  "nbformat": 4,
  "nbformat_minor": 0,
  "metadata": {
    "colab": {
      "provenance": [],
      "authorship_tag": "ABX9TyPFNTNL0zQ1Rwb1PZQbQkdK",
      "include_colab_link": true
    },
    "kernelspec": {
      "name": "python3",
      "display_name": "Python 3"
    },
    "language_info": {
      "name": "python"
    }
  },
  "cells": [
    {
      "cell_type": "markdown",
      "metadata": {
        "id": "view-in-github",
        "colab_type": "text"
      },
      "source": [
        "<a href=\"https://colab.research.google.com/github/imeliayafistaputri/DasarAlgoritmaDanPemrograman-BisDig/blob/main/menghitung_harga_barang.ipynb\" target=\"_parent\"><img src=\"https://colab.research.google.com/assets/colab-badge.svg\" alt=\"Open In Colab\"/></a>"
      ]
    },
    {
      "cell_type": "code",
      "execution_count": 1,
      "metadata": {
        "colab": {
          "base_uri": "https://localhost:8080/"
        },
        "id": "qMD83VihBjLb",
        "outputId": "017c8e7d-4a96-41b1-e16b-0345e3fe5b45"
      },
      "outputs": [
        {
          "output_type": "stream",
          "name": "stdout",
          "text": [
            "Masukkan harga barang ke-1: Rp100000\n",
            "Masukkan harga barang ke-2: Rp150000\n",
            "Masukkan harga barang ke-3: Rp175000\n",
            "\n",
            "Total pembayaran: Rp425,000\n"
          ]
        }
      ],
      "source": [
        "# Program Kasir Sederhana - Hitung Total Harga 3 Barang\n",
        "\n",
        "# Input harga dari user\n",
        "harga1 = float(input(\"Masukkan harga barang ke-1: Rp\"))\n",
        "harga2 = float(input(\"Masukkan harga barang ke-2: Rp\"))\n",
        "harga3 = float(input(\"Masukkan harga barang ke-3: Rp\"))\n",
        "\n",
        "# Hitung total harga\n",
        "total = harga1 + harga2 + harga3\n",
        "\n",
        "# Tampilkan hasil\n",
        "print(f\"\\nTotal pembayaran: Rp{total:,.0f}\")"
      ]
    }
  ]
}