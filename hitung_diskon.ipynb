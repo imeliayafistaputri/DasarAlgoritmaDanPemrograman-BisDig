{
  "nbformat": 4,
  "nbformat_minor": 0,
  "metadata": {
    "colab": {
      "provenance": [],
      "authorship_tag": "ABX9TyNSXbmVfEKfSiV/7N8ha/Dy",
      "include_colab_link": true
    },
    "kernelspec": {
      "name": "python3",
      "display_name": "Python 3"
    },
    "language_info": {
      "name": "python"
    }
  },
  "cells": [
    {
      "cell_type": "markdown",
      "metadata": {
        "id": "view-in-github",
        "colab_type": "text"
      },
      "source": [
        "<a href=\"https://colab.research.google.com/github/imeliayafistaputri/DasarAlgoritmaDanPemrograman-BisDig/blob/main/hitung_diskon.ipynb\" target=\"_parent\"><img src=\"https://colab.research.google.com/assets/colab-badge.svg\" alt=\"Open In Colab\"/></a>"
      ]
    },
    {
      "cell_type": "code",
      "execution_count": 1,
      "metadata": {
        "colab": {
          "base_uri": "https://localhost:8080/"
        },
        "id": "pg0ewe14AcIv",
        "outputId": "8724024c-7c61-4de1-f71e-3f5826709180"
      },
      "outputs": [
        {
          "output_type": "stream",
          "name": "stdout",
          "text": [
            "Masukkan total belanja (Rp): 1850000\n",
            "Selamat! Anda mendapat diskon 10% sebesar Rp185,000\n",
            "Total bayar: Rp1,665,000\n"
          ]
        }
      ],
      "source": [
        "# Input total belanja dari user\n",
        "total_belanja = float(input(\"Masukkan total belanja (Rp): \"))\n",
        "\n",
        "# Cek kondisi untuk diskon\n",
        "if total_belanja > 500000:\n",
        "    diskon = total_belanja * 0.10  # Diskon 10%\n",
        "    total_bayar = total_belanja - diskon\n",
        "    print(f\"Selamat! Anda mendapat diskon 10% sebesar Rp{diskon:,.0f}\")\n",
        "else:\n",
        "    total_bayar = total_belanja\n",
        "    print(\"Maaf, belum bisa dapat diskon. Belanja lagi di atas Rp500.000 ya!\")\n",
        "\n",
        "# Tampilkan total bayar\n",
        "print(f\"Total bayar: Rp{total_bayar:,.0f}\")"
      ]
    }
  ]
}