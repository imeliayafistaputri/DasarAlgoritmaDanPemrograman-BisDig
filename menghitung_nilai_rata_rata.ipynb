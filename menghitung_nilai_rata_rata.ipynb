{
  "nbformat": 4,
  "nbformat_minor": 0,
  "metadata": {
    "colab": {
      "provenance": [],
      "authorship_tag": "ABX9TyPdeJA9P+GUTeHWXwp8mokE",
      "include_colab_link": true
    },
    "kernelspec": {
      "name": "python3",
      "display_name": "Python 3"
    },
    "language_info": {
      "name": "python"
    }
  },
  "cells": [
    {
      "cell_type": "markdown",
      "metadata": {
        "id": "view-in-github",
        "colab_type": "text"
      },
      "source": [
        "<a href=\"https://colab.research.google.com/github/imeliayafistaputri/DasarAlgoritmaDanPemrograman-BisDig/blob/main/menghitung_nilai_rata_rata.ipynb\" target=\"_parent\"><img src=\"https://colab.research.google.com/assets/colab-badge.svg\" alt=\"Open In Colab\"/></a>"
      ]
    },
    {
      "cell_type": "code",
      "execution_count": 1,
      "metadata": {
        "colab": {
          "base_uri": "https://localhost:8080/"
        },
        "id": "5VcbWnnBCrM5",
        "outputId": "36a92215-ccde-4688-a532-80a52858c0bd"
      },
      "outputs": [
        {
          "output_type": "stream",
          "name": "stdout",
          "text": [
            "Masukkan nilai Matematika: 95\n",
            "Masukkan nilai Fisika: 80\n",
            "Masukkan nilai Kimia: 88\n",
            "\n",
            "Rata-rata nilai: 87.67\n",
            "Status: LULUS\n"
          ]
        }
      ],
      "source": [
        "# Input nilai 3 mata pelajaran\n",
        "matematika = float(input(\"Masukkan nilai Matematika: \"))\n",
        "fisika = float(input(\"Masukkan nilai Fisika: \"))\n",
        "kimia = float(input(\"Masukkan nilai Kimia: \"))\n",
        "\n",
        "# Hitung rata-rata\n",
        "rata_rata = (matematika + fisika + kimia) / 3\n",
        "\n",
        "# Tentukan status kelulusan\n",
        "if rata_rata >= 75:\n",
        "    status = \"LULUS\"\n",
        "else:\n",
        "    status = \"TIDAK LULUS\"\n",
        "\n",
        "# Tampilkan hasil\n",
        "print(f\"\\nRata-rata nilai: {rata_rata:.2f}\")\n",
        "print(f\"Status: {status}\")"
      ]
    }
  ]
}