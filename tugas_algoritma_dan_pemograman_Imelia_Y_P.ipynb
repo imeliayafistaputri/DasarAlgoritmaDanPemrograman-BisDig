{
  "nbformat": 4,
  "nbformat_minor": 0,
  "metadata": {
    "colab": {
      "provenance": [],
      "authorship_tag": "ABX9TyOJNEtXLdspsPLsrSqUufqR",
      "include_colab_link": true
    },
    "kernelspec": {
      "name": "python3",
      "display_name": "Python 3"
    },
    "language_info": {
      "name": "python"
    }
  },
  "cells": [
    {
      "cell_type": "markdown",
      "metadata": {
        "id": "view-in-github",
        "colab_type": "text"
      },
      "source": [
        "<a href=\"https://colab.research.google.com/github/imeliayafistaputri/DasarAlgoritmaDanPemrograman-BisDig/blob/main/tugas_algoritma_dan_pemograman_Imelia_Y_P.ipynb\" target=\"_parent\"><img src=\"https://colab.research.google.com/assets/colab-badge.svg\" alt=\"Open In Colab\"/></a>"
      ]
    },
    {
      "cell_type": "code",
      "execution_count": 1,
      "metadata": {
        "colab": {
          "base_uri": "https://localhost:8080/"
        },
        "id": "bZCHZnMYA85e",
        "outputId": "3d84768c-bc94-46b0-f5cd-584a3d4f8049"
      },
      "outputs": [
        {
          "output_type": "stream",
          "name": "stdout",
          "text": [
            "Masukkan angka untuk menghitung faktorial: 4\n",
            "Faktorial dari 4 adalah 24\n"
          ]
        }
      ],
      "source": [
        "def faktorial(n):\n",
        "    if n == 0 or n == 1:  # Base case\n",
        "        return 1\n",
        "    else:\n",
        "        return n * faktorial(n - 1)  # Recursive case\n",
        "\n",
        "# Input dari pengguna\n",
        "angka = int(input(\"Masukkan angka untuk menghitung faktorial: \"))\n",
        "\n",
        "# Memastikan input tidak negatif\n",
        "if angka < 0:\n",
        "    print(\"Faktorial tidak terdefinisi untuk bilangan negatif.\")\n",
        "else:\n",
        "    print(f\"Faktorial dari {angka} adalah {faktorial(angka)}\")"
      ]
    },
    {
      "cell_type": "code",
      "source": [
        "# Inisialisasi list untuk menyimpan nilai siswa\n",
        "nilai_siswa = []\n",
        "\n",
        "# Input nilai 5 siswa menggunakan perulangan\n",
        "for i in range(5):\n",
        "    nilai = float(input(f\"Masukkan nilai siswa ke-{i+1}: \"))\n",
        "    nilai_siswa.append(nilai)\n",
        "\n",
        "# Mencari nilai tertinggi dan indeksnya\n",
        "nilai_tertinggi = max(nilai_siswa)\n",
        "siswa_tertinggi = nilai_siswa.index(nilai_tertinggi) + 1  # +1 karena indeks dimulai dari 0\n",
        "\n",
        "# Menampilkan hasil\n",
        "print(f\"\\nNilai tertinggi adalah: {nilai_tertinggi}\")\n",
        "print(f\"Diraih oleh siswa ke-{siswa_tertinggi}\")"
      ],
      "metadata": {
        "colab": {
          "base_uri": "https://localhost:8080/"
        },
        "id": "5l4i-hEFCbi4",
        "outputId": "0bdc0ce2-4f51-4739-d82e-500b92657729"
      },
      "execution_count": 3,
      "outputs": [
        {
          "output_type": "stream",
          "name": "stdout",
          "text": [
            "Masukkan nilai siswa ke-1: 80\n",
            "Masukkan nilai siswa ke-2: 85\n",
            "Masukkan nilai siswa ke-3: 75\n",
            "Masukkan nilai siswa ke-4: 95\n",
            "Masukkan nilai siswa ke-5: 90\n",
            "\n",
            "Nilai tertinggi adalah: 95.0\n",
            "Diraih oleh siswa ke-4\n"
          ]
        }
      ]
    },
    {
      "cell_type": "code",
      "source": [
        "# Input total belanja\n",
        "try:\n",
        "    total_belanja = float(input(\"Masukkan total belanja Anda (Rp): \"))\n",
        "\n",
        "    # Hitung diskon jika syarat terpenuhi\n",
        "    if total_belanja > 500000:\n",
        "        diskon = total_belanja * 0.10\n",
        "        print(\"Selamat! Anda mendapatkan diskon 10%.\")\n",
        "    else:\n",
        "        diskon = 0\n",
        "        print(\"Maaf, Anda tidak mendapatkan diskon.\")\n",
        "\n",
        "    # Hitung total yang harus dibayar\n",
        "    total_bayar = total_belanja - diskon\n",
        "\n",
        "    # Tampilkan hasil\n",
        "    print(f\"Total belanja: Rp{total_belanja:,.2f}\")\n",
        "    print(f\"Diskon: Rp{diskon:,.2f}\")\n",
        "    print(f\"Total bayar setelah diskon: Rp{total_bayar:,.2f}\")\n",
        "\n",
        "except ValueError:\n",
        "    print(\"Input tidak valid! Masukkan angka total belanja.\")\n"
      ],
      "metadata": {
        "colab": {
          "base_uri": "https://localhost:8080/"
        },
        "id": "XS1YREO3Dpdg",
        "outputId": "169417f0-cfb4-4fb5-de90-b7d607c9aff8"
      },
      "execution_count": 5,
      "outputs": [
        {
          "output_type": "stream",
          "name": "stdout",
          "text": [
            "Masukkan total belanja Anda (Rp): 1850000\n",
            "Selamat! Anda mendapatkan diskon 10%.\n",
            "Total belanja: Rp1,850,000.00\n",
            "Diskon: Rp185,000.00\n",
            "Total bayar setelah diskon: Rp1,665,000.00\n"
          ]
        }
      ]
    }
  ]
}